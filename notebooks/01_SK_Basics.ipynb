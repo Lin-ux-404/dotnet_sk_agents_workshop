{
 "cells": [
  {
   "cell_type": "markdown",
   "id": "e5e23946",
   "metadata": {},
   "source": [
    " [!IMPORTANT]\n",
    " You will need an [.NET 8 SDK](https://dotnet.microsoft.com/en-us/download/dotnet/8.0) and [Polyglot](https://marketplace.visualstudio.com/items?itemName=ms-dotnettools.dotnet-interactive-vscode) to get started with this notebook using .NET Interactive."
   ]
  },
  {
   "cell_type": "markdown",
   "id": "04d7df5e",
   "metadata": {},
   "source": [
    "# Introduction to Semantic Kernel in .NET\n",
    "\n",
    "Welcome to this introduction to Semantic Kernel using .NET! This notebook will guide you through the basic concepts of Semantic Kernel and show you how to implement them using C#.\n",
    "\n",
    "## What You'll Learn\n",
    "- What Semantic Kernel is and how it works\n",
    "- Setting up a kernel with Azure OpenAI\n",
    "- Creating and using semantic functions and plugins\n",
    "- Working with native functions\n",
    "- Integrating AI services with your applications\n",
    "\n",
    "Semantic Kernel is a lightweight SDK that integrates Large Language Models (LLMs) with conventional programming languages. It enables you to build AI-first applications while still leveraging your existing code and systems."
   ]
  },
  {
   "cell_type": "markdown",
   "id": "b458d0a2",
   "metadata": {},
   "source": [
    "## 1. Setting Up Your Environment\n",
    "\n",
    "To use Semantic Kernel in a .NET environment, you'll need to install the required NuGet packages. The following cell will install the core packages needed for this notebook."
   ]
  },
  {
   "cell_type": "code",
   "execution_count": 46,
   "id": "fdc64938",
   "metadata": {
    "language_info": {
     "name": "polyglot-notebook"
    },
    "polyglot_notebook": {
     "kernelName": "csharp"
    }
   },
   "outputs": [
    {
     "data": {
      "text/html": [
       "<div><div></div><div></div><div><strong>Installed Packages</strong><ul><li><span>Microsoft.Extensions.Configuration, 9.0.9</span></li><li><span>Microsoft.Extensions.Configuration.Binder, 9.0.9</span></li><li><span>Microsoft.Extensions.Configuration.EnvironmentVariables, 9.0.9</span></li><li><span>Microsoft.Extensions.Configuration.Json, 9.0.9</span></li><li><span>Microsoft.SemanticKernel, 1.65.0</span></li><li><span>Microsoft.SemanticKernel.Agents.Core, 1.65.0</span></li><li><span>Microsoft.SemanticKernel.Connectors.AzureOpenAI, 1.65.0</span></li></ul></div></div>"
      ]
     },
     "metadata": {},
     "output_type": "display_data"
    }
   ],
   "source": [
    "#r \"nuget: Microsoft.SemanticKernel\"\n",
    "#r \"nuget: Microsoft.SemanticKernel.Connectors.AzureOpenAI\"\n",
    "#r \"nuget: Microsoft.SemanticKernel.Agents.Core\"\n",
    "#r \"nuget: Microsoft.Extensions.Configuration\"\n",
    "#r \"nuget: Microsoft.Extensions.Configuration.Json\" \n",
    "#r \"nuget: Microsoft.Extensions.Configuration.EnvironmentVariables\" \n",
    "#r \"nuget: Microsoft.Extensions.Configuration.Binder\" "
   ]
  },
  {
   "cell_type": "markdown",
   "id": "c99c03f7",
   "metadata": {},
   "source": [
    "### Setting up credentials\n",
    "\n",
    "To use Azure OpenAI services, we'll need to configure our credentials. In a real application, you would typically store these in a configuration file or environment variables, but for this notebook, we'll define them directly.\n",
    "\n",
    "You'll need to provide:\n",
    "- Azure OpenAI Endpoint\n",
    "- API Key\n",
    "- Deployment Name"
   ]
  },
  {
   "cell_type": "code",
   "execution_count": 47,
   "id": "4de2728f",
   "metadata": {
    "language_info": {
     "name": "polyglot-notebook"
    },
    "polyglot_notebook": {
     "kernelName": "csharp"
    }
   },
   "outputs": [
    {
     "name": "stdout",
     "output_type": "stream",
     "text": [
      "Found appsettings.json at: c:\\Users\\shenglinxu\\OneDrive - Microsoft\\projects\\VGZ\\dotnet_agents_demo_sk\\src\\appsettings.json\r\n"
     ]
    }
   ],
   "source": [
    "// Load necessary namespaces\n",
    "using System;\n",
    "using System.IO;\n",
    "using Microsoft.SemanticKernel;\n",
    "using Microsoft.SemanticKernel.ChatCompletion;\n",
    "using Microsoft.Extensions.Configuration;\n",
    "\n",
    "// Define a simple settings class for Azure OpenAI\n",
    "public class AzureOpenAISettings\n",
    "{\n",
    "    public string Endpoint { get; set; } = string.Empty;\n",
    "    public string ModelDeploymentName { get; set; } = string.Empty;\n",
    "    public string ApiKey { get; set; } = string.Empty;\n",
    "}\n",
    "\n",
    "// Find and load settings from appsettings.json\n",
    "var azureOpenAISettings = new AzureOpenAISettings();\n",
    "var foundSettings = false;\n",
    "\n",
    "// Search for appsettings.json in current directory and parent directories\n",
    "string projectDirectory = Directory.GetCurrentDirectory();\n",
    "while (!string.IsNullOrEmpty(projectDirectory))\n",
    "{\n",
    "    // Check for appsettings.json directly or in src subfolder\n",
    "    string[] possiblePaths = new[] { \n",
    "        Path.Combine(projectDirectory, \"appsettings.json\"),\n",
    "        Path.Combine(projectDirectory, \"src\", \"appsettings.json\")\n",
    "    };\n",
    "    \n",
    "    foreach (var path in possiblePaths)\n",
    "    {\n",
    "        if (File.Exists(path))\n",
    "        {\n",
    "            Console.WriteLine($\"Found appsettings.json at: {path}\");\n",
    "            \n",
    "            var configuration = new ConfigurationBuilder()\n",
    "                .AddJsonFile(path)\n",
    "                .Build();\n",
    "            \n",
    "            // Try to extract settings from AzureOpenAISettings or AzureOpenAI section\n",
    "            var section = configuration.GetSection(\"AzureOpenAISettings\");\n",
    "            if (!section.Exists())\n",
    "                section = configuration.GetSection(\"AzureOpenAI\");\n",
    "                \n",
    "            if (section.Exists())\n",
    "            {\n",
    "                azureOpenAISettings.Endpoint = section[\"Endpoint\"] ?? string.Empty;\n",
    "                azureOpenAISettings.ApiKey = section[\"ApiKey\"] ?? string.Empty;\n",
    "                azureOpenAISettings.ModelDeploymentName = section[\"ModelDeploymentName\"] ?? string.Empty;\n",
    "                foundSettings = true;\n",
    "                break;\n",
    "            }\n",
    "        }\n",
    "    }\n",
    "    \n",
    "    if (foundSettings)\n",
    "        break;\n",
    "        \n",
    "    // Move up to parent directory\n",
    "    projectDirectory = Directory.GetParent(projectDirectory)?.FullName;\n",
    "}"
   ]
  },
  {
   "cell_type": "code",
   "execution_count": 48,
   "id": "9343d70c",
   "metadata": {
    "language_info": {
     "name": "polyglot-notebook"
    },
    "polyglot_notebook": {
     "kernelName": "csharp"
    }
   },
   "outputs": [
    {
     "name": "stdout",
     "output_type": "stream",
     "text": [
      "✅ Successfully loaded settings from appsettings.json!\n",
      "Azure OpenAI Endpoint: https://vgz-foundry-demo-foundry.openai.azure.com/\n",
      "Azure OpenAI Endpoint: https://vgz-foundry-demo-foundry.openai.azure.com/\n",
      "Model Deployment: o4-mini\n",
      "Model Deployment: o4-mini\n"
     ]
    }
   ],
   "source": [
    "// Check if we have valid settings\n",
    "if (foundSettings && \n",
    "    !string.IsNullOrEmpty(azureOpenAISettings.Endpoint) && \n",
    "    !string.IsNullOrEmpty(azureOpenAISettings.ApiKey) &&\n",
    "    !string.IsNullOrEmpty(azureOpenAISettings.ModelDeploymentName))\n",
    "{\n",
    "    Console.WriteLine(\"✅ Successfully loaded settings from appsettings.json!\");\n",
    "    Console.WriteLine($\"Azure OpenAI Endpoint: {azureOpenAISettings.Endpoint}\");\n",
    "    Console.WriteLine($\"Model Deployment: {azureOpenAISettings.ModelDeploymentName}\");\n",
    "}\n",
    "else\n",
    "{\n",
    "    Console.WriteLine(\"⚠️ Couldn't load valid settings from appsettings.json\");\n",
    "    Console.WriteLine(\"Please manually configure the settings below.\");\n",
    "    \n",
    "    // Set placeholder values\n",
    "    azureOpenAISettings.Endpoint = \"https://your-endpoint.openai.azure.com/\";\n",
    "    azureOpenAISettings.ApiKey = \"your-api-key\"; \n",
    "    azureOpenAISettings.ModelDeploymentName = \"your-deployment-name\";\n",
    "}"
   ]
  },
  {
   "cell_type": "markdown",
   "id": "4e815604",
   "metadata": {},
   "source": [
    "## 2. Basic Semantic Kernel Concepts\n",
    "\n",
    "Semantic Kernel consists of several core components:\n",
    "\n",
    "1. **Kernel**: The central orchestration unit that connects AI services, plugins, and functions\n",
    "2. **AI Services**: Integrations with LLMs like Azure OpenAI or OpenAI\n",
    "3. **Plugins**: Collections of functions (both native and semantic)\n",
    "4. **Functions**: The building blocks of functionality (semantic and native)\n",
    "5. **Agents**: Higher-level abstractions that can use functions to solve complex problems\n",
    "\n",
    "### The Kernel\n",
    "\n",
    "The Kernel is the central orchestration component in Semantic Kernel. It:\n",
    "\n",
    "- Manages AI services and plugins\n",
    "- Provides function execution capabilities\n",
    "- Handles the communication between your application and LLMs\n",
    "- Routes function calls to the appropriate implementation\n",
    "\n",
    "Let's create our first Kernel:"
   ]
  },
  {
   "cell_type": "code",
   "execution_count": 49,
   "id": "5093f908",
   "metadata": {
    "language_info": {
     "name": "polyglot-notebook"
    },
    "polyglot_notebook": {
     "kernelName": "csharp"
    }
   },
   "outputs": [
    {
     "name": "stdout",
     "output_type": "stream",
     "text": [
      "Kernel created successfully!\r\n"
     ]
    }
   ],
   "source": [
    "// Create a Kernel Builder\n",
    "var kernelBuilder = Kernel.CreateBuilder();\n",
    "\n",
    "// Add Azure OpenAI Chat Completion service\n",
    "kernelBuilder.Services.AddAzureOpenAIChatCompletion(\n",
    "    deploymentName: azureOpenAISettings.ModelDeploymentName,\n",
    "    endpoint: azureOpenAISettings.Endpoint,\n",
    "    apiKey: azureOpenAISettings.ApiKey,\n",
    "    serviceId: \"chat-completion\"\n",
    ");\n",
    "\n",
    "// Build the kernel\n",
    "var kernel = kernelBuilder.Build();\n",
    "\n",
    "Console.WriteLine(\"Kernel created successfully!\");"
   ]
  },
  {
   "cell_type": "markdown",
   "id": "3804a97f",
   "metadata": {},
   "source": [
    "### Understanding Service Configuration\n",
    "\n",
    "When adding an AI service to the kernel, we specified a `service_id`. This ID is important because:\n",
    "\n",
    "1. It allows you to add multiple services to the same kernel\n",
    "2. You can selectively use different services for different agents\n",
    "3. It helps organize and identify your services\n",
    "\n",
    "If you need specific execution settings for your AI service (like temperature, top-p, or function calling behavior), you can retrieve and modify them:"
   ]
  },
  {
   "cell_type": "code",
   "execution_count": 50,
   "metadata": {
    "language_info": {
     "name": "polyglot-notebook"
    },
    "polyglot_notebook": {
     "kernelName": "csharp"
    }
   },
   "outputs": [
    {
     "name": "stdout",
     "output_type": "stream",
     "text": [
      "Configured execution settings with temperature: 0.7\r\n"
     ]
    }
   ],
   "source": [
    "using System;\n",
    "using Microsoft.SemanticKernel.Agents;\n",
    "using Microsoft.SemanticKernel;\n",
    "using Microsoft.SemanticKernel.ChatCompletion;\n",
    "using Microsoft.SemanticKernel.Connectors.AzureOpenAI;\n",
    "\n",
    "// Get the execution settings for our service\n",
    "var executionSettings = new AzureOpenAIPromptExecutionSettings\n",
    "{\n",
    "    ServiceId = \"chat-completion\",\n",
    "    FunctionChoiceBehavior = FunctionChoiceBehavior.Auto(),\n",
    "    Temperature = 0.7\n",
    "};\n",
    "\n",
    "\n",
    "// You can use these settings when creating a function or when invoking the AI\n",
    "Console.WriteLine($\"Configured execution settings with temperature: {executionSettings.Temperature}\");"
   ]
  },
  {
   "cell_type": "markdown",
   "id": "e255c64f",
   "metadata": {},
   "source": [
    "## 3. Your First Agent: ChatCompletionAgent\n",
    "\n",
    "Now that we have our kernel and services set up, let's create our first agent. We'll start with the `ChatCompletionAgent`, which is a simple yet powerful agent that leverages the chat completion capabilities of large language models.\n",
    "\n",
    "### Creating a Basic Agent\n",
    "\n",
    "To create a `ChatCompletionAgent`, we need to provide:\n",
    "1. A kernel with a configured chat service\n",
    "2. Instructions that define the agent's behavior\n",
    "3. Optional parameters like a name and execution settings\n",
    "\n",
    "Let's create a simple assistant agent:"
   ]
  },
  {
   "cell_type": "code",
   "execution_count": 51,
   "metadata": {
    "language_info": {
     "name": "polyglot-notebook"
    },
    "polyglot_notebook": {
     "kernelName": "csharp"
    }
   },
   "outputs": [],
   "source": [
    "ChatCompletionAgent assistantAgent =\n",
    "    new()\n",
    "    {\n",
    "        Name = \"Assistant\",\n",
    "        Instructions = \"You are a helpful assistant that provides concise and accurate information. Keep your responses brief but informative.\",\n",
    "        Kernel = kernel\n",
    "    };"
   ]
  },
  {
   "cell_type": "markdown",
   "id": "f754635b",
   "metadata": {},
   "source": [
    "### Configuring Instructions and Parameters\n",
    "\n",
    "The `instructions` parameter is crucial as it defines how your agent will behave. Think of it as the \"system prompt\" that shapes the agent's personality, capabilities, and limitations. Let's explore some more complex instructions:"
   ]
  },
  {
   "cell_type": "code",
   "execution_count": 52,
   "id": "675d9a01",
   "metadata": {
    "language_info": {
     "name": "polyglot-notebook"
    },
    "polyglot_notebook": {
     "kernelName": "csharp"
    }
   },
   "outputs": [
    {
     "name": "stdout",
     "output_type": "stream",
     "text": [
      "Agent 'MathTutor' created with specialized instructions.\r\n"
     ]
    }
   ],
   "source": [
    "// Create a specialized Math Tutor agent\n",
    "var mathTutorAgent = new ChatCompletionAgent()\n",
    "{\n",
    "    Kernel = kernel,\n",
    "    Name = \"MathTutor\",\n",
    "    Instructions = @\"You are a math tutor specialized in helping students understand mathematical concepts.\n",
    "    \n",
    "    When responding to questions:\n",
    "    1. First explain the underlying concept in simple terms\n",
    "    2. Then walk through the solution step by step\n",
    "    3. Provide a simple example to reinforce the learning\n",
    "    4. Avoid solving problems directly without explanation\n",
    "    \n",
    "    Always be encouraging and patient.\"\n",
    "};\n",
    "\n",
    "Console.WriteLine($\"Agent '{mathTutorAgent.Name}' created with specialized instructions.\");\n"
   ]
  },
  {
   "cell_type": "markdown",
   "id": "34f5077c",
   "metadata": {},
   "source": [
    "### Understanding Agent Execution\n",
    "\n",
    "Once an agent is created, it needs a chat history to interact with. The chat history maintains the state of the conversation and provides context for the agent's responses.\n",
    "\n",
    "Here's a simple example of how to execute an agent:"
   ]
  },
  {
   "cell_type": "code",
   "execution_count": 53,
   "id": "88d4ad15",
   "metadata": {
    "language_info": {
     "name": "polyglot-notebook"
    },
    "polyglot_notebook": {
     "kernelName": "csharp"
    }
   },
   "outputs": [
    {
     "name": "stdout",
     "output_type": "stream",
     "text": [
      "Agent: Hello there! I’m your friendly math tutor, here to help you build confidence and understanding in mathematics. Here’s a bit about how I work:\n",
      "\n",
      "1. I explain each concept in simple, clear terms so you see the “why” behind the math.  \n",
      "2. I guide you step by step through problems rather than just giving you answers.  \n",
      "3. I reinforce learning with straightforward examples you can follow.  \n",
      "4. I’m always patient and encouraging—there are no “silly” questions!\n",
      "\n",
      "Feel free to tell me what topic you’re working on or any specific questions you have, and we’ll tackle them together.\r\n"
     ]
    }
   ],
   "source": [
    "// Create a chat history to maintain conversation state\n",
    "var chatHistory = new ChatHistory();\n",
    "\n",
    "// Add a user message to the chat history\n",
    "chatHistory.AddUserMessage(\"Hello! Can you introduce yourself?\");\n",
    "\n",
    "// Define a function to collect agent responses\n",
    "async Task<string> GetAgentResponseAsync(ChatCompletionAgent agent, ChatHistory history)\n",
    "{\n",
    "    // Use InvokeAsync and collect the response content\n",
    "    var responseBuilder = new System.Text.StringBuilder();\n",
    "    \n",
    "    await foreach (var item in agent.InvokeAsync(history))\n",
    "    {\n",
    "        if (item.Message is ChatMessageContent content)\n",
    "        {\n",
    "            responseBuilder.Append(content.Content);\n",
    "        }\n",
    "    }\n",
    "    \n",
    "    return responseBuilder.ToString();\n",
    "}\n",
    "\n",
    "// Execute the agent and get the response\n",
    "var responseText = await GetAgentResponseAsync(mathTutorAgent, chatHistory);\n",
    "\n",
    "// Print the agent's response\n",
    "Console.WriteLine($\"Agent: {responseText}\");\n",
    "\n",
    "// Add the response to the chat history for continuity\n",
    "chatHistory.AddAssistantMessage(responseText);"
   ]
  },
  {
   "cell_type": "markdown",
   "id": "a730b8a6",
   "metadata": {},
   "source": [
    "### Exercise: Implement a Simple Question-Answering Agent\n",
    "\n",
    "Now it's your turn to create a custom agent. Implement a question-answering agent that specializes in providing factual information about a specific topic of your choice.\n",
    "\n",
    "Your task:\n",
    "1. Create a new `ChatCompletionAgent` with a descriptive name\n",
    "2. Configure it with detailed instructions that define its area of expertise and how it should respond\n",
    "3. Create a chat history with a relevant question\n",
    "4. Execute the agent and display its response"
   ]
  },
  {
   "cell_type": "code",
   "execution_count": null,
   "metadata": {
    "language_info": {
     "name": "polyglot-notebook"
    },
    "polyglot_notebook": {
     "kernelName": "csharp"
    }
   },
   "outputs": [],
   "source": [
    "// Your code here to create and execute a question-answering agent\n",
    "// feel free to use the following template:     \n",
    "    // Name = \"SpaceExpert\",\n",
    "    // Instructions = @\"You are an expert in astronomy and space exploration.\n",
    "    // When answering questions:\n",
    "    // - Provide factual, scientifically accurate information\n",
    "    // - Include relevant dates, measurements, and statistics when applicable\n",
    "    // - Explain complex concepts in accessible language\n",
    "    // - Differentiate between established facts and theoretical or speculative ideas\n",
    "    // - When appropriate, mention recent developments or missions\n",
    "    // Focus on being educational and inspiring curiosity about space.\"\n",
    "\n",
    "// 1. Create your agent with specialized instructions\n",
    "\n",
    "// 2. Create a chat history with a relevant question\n",
    "\n",
    "// 3. Execute the agent and get its response\n",
    "\n",
    "// 4. Print the response"
   ]
  },
  {
   "cell_type": "markdown",
   "id": "fb33d3e7",
   "metadata": {},
   "source": [
    "<details>\n",
    "<summary>Click to see solution</summary>\n",
    "\n",
    "```c#\n",
    "// Create a specialized space expert agent\n",
    "var spaceExpertAgent = new ChatCompletionAgent()\n",
    "{\n",
    "    Kernel = kernel,\n",
    "    Name = \"SpaceExpert\",\n",
    "    Instructions = @\"You are an expert in astronomy and space exploration.\n",
    "    \n",
    "    When answering questions:\n",
    "    - Provide factual, scientifically accurate information\n",
    "    - Include relevant dates, measurements, and statistics when applicable\n",
    "    - Explain complex concepts in accessible language\n",
    "    - Differentiate between established facts and theoretical or speculative ideas\n",
    "    - When appropriate, mention recent developments or missions\n",
    "    \n",
    "    Focus on being educational and inspiring curiosity about space.\"\n",
    "};\n",
    "\n",
    "// Create a chat history with a specific astronomy question\n",
    "var spaceChat = new ChatHistory();\n",
    "spaceChat.AddUserMessage(\"What are exoplanets and how do scientists detect them?\");\n",
    "\n",
    "// Helper function to get the agent's response\n",
    "async Task<string> GetExpertResponseAsync(ChatCompletionAgent agent, ChatHistory history)\n",
    "{\n",
    "    // Use InvokeAsync and collect the response content\n",
    "    var responseBuilder = new System.Text.StringBuilder();\n",
    "    \n",
    "    await foreach (var item in agent.InvokeAsync(history))\n",
    "    {\n",
    "        if (item.Message is ChatMessageContent content)\n",
    "        {\n",
    "            responseBuilder.Append(content.Content);\n",
    "        }\n",
    "    }\n",
    "    \n",
    "    return responseBuilder.ToString();\n",
    "}\n",
    "\n",
    "// Execute the agent and get its response\n",
    "var spaceResponse = await GetExpertResponseAsync(spaceExpertAgent, spaceChat);\n",
    "\n",
    "// Display the agent's response\n",
    "Console.WriteLine($\"SpaceExpert: {spaceResponse}\");\n",
    "```\n",
    "</details>"
   ]
  },
  {
   "cell_type": "markdown",
   "id": "0151364a",
   "metadata": {},
   "source": [
    "### Key Takeaways\n",
    "\n",
    "In this section, we've learned how to:\n",
    "\n",
    "1. **Create a basic `ChatCompletionAgent`** with specific instructions\n",
    "2. **Configure agent instructions** to define specialized behavior\n",
    "3. **Use template parameters** in instructions for dynamic behavior\n",
    "4. **Execute agents** using different invocation methods\n",
    "\n",
    "In the next section, we'll explore more complex interactions with agents, including multi-turn conversations."
   ]
  },
  {
   "cell_type": "markdown",
   "id": "defbb296",
   "metadata": {},
   "source": [
    "## 4. Basic Agent Interactions\n",
    "\n",
    "Now that we've created agents, let's explore how to interact with them in a more conversational way. This involves understanding chat history, adding messages, and processing responses over multiple turns.\n",
    "\n",
    "### Chat History Fundamentals\n",
    "\n",
    "The `ChatHistory` class is fundamental to agent interactions. It:\n",
    "- Maintains the chronological sequence of messages in a conversation\n",
    "- Provides context for the agent to generate relevant responses\n",
    "- Allows for multi-turn conversations with memory of previous exchanges\n",
    "\n",
    "Let's create a new chat history and explore its basic functionality:"
   ]
  },
  {
   "cell_type": "code",
   "execution_count": 54,
   "metadata": {
    "language_info": {
     "name": "polyglot-notebook"
    },
    "polyglot_notebook": {
     "kernelName": "csharp"
    }
   },
   "outputs": [
    {
     "name": "stdout",
     "output_type": "stream",
     "text": [
      "Chat history:\n",
      "system: This is a conversation between a user and an AI assistant.\n",
      "user: Hello, I have some questions about programming.\n"
     ]
    }
   ],
   "source": [
    "// Create a new chat history\n",
    "var chat = new ChatHistory();\n",
    "\n",
    "// Add system message (optional but useful for setting global context)\n",
    "chat.AddSystemMessage(\"This is a conversation between a user and an AI assistant.\");\n",
    "\n",
    "// Add user message\n",
    "chat.AddUserMessage(\"Hello, I have some questions about programming.\");\n",
    "\n",
    "// Print the chat history\n",
    "Console.WriteLine(\"Chat history:\");\n",
    "// Using chat directly as it's an IEnumerable of AuthorRole\n",
    "foreach (var message in chat)\n",
    "{\n",
    "    Console.WriteLine($\"{message.Role}: {message.Content}\");\n",
    "}"
   ]
  },
  {
   "cell_type": "markdown",
   "id": "693a29c2",
   "metadata": {},
   "source": [
    "### Processing Agent Responses\n",
    "\n",
    "When an agent generates a response, it's important to add it back to the chat history to maintain the conversation flow. Let's see how to do this in a multi-turn conversation:"
   ]
  },
  {
   "cell_type": "code",
   "execution_count": 55,
   "metadata": {
    "language_info": {
     "name": "polyglot-notebook"
    },
    "polyglot_notebook": {
     "kernelName": "csharp"
    }
   },
   "outputs": [
    {
     "name": "stdout",
     "output_type": "stream",
     "text": [
      "User: What is Python used for?\n",
      "Agent: Python is a general-purpose, high-level language used for:\n",
      "\n",
      "- Web development (Django, Flask)  \n",
      "- Data analysis & visualization (pandas, NumPy, matplotlib)  \n",
      "- Machine learning & AI (scikit-learn, TensorFlow, PyTorch)  \n",
      "- Scripting & automation (batch jobs, file ops)  \n",
      "- Desktop GUIs (Tkinter, PyQt)  \n",
      "- Game development (Pygame)  \n",
      "- Networking & APIs  \n",
      "- Embedded/IoT projects (MicroPython)  \n",
      "- Teaching programming and rapid prototyping\n",
      "User: How does it compare to Java?\n",
      "Agent: Here’s a concise comparison:\n",
      "\n",
      "• Typing  \n",
      "  – Python: dynamically typed, no declarations  \n",
      "  – Java: statically typed, explicit types  \n",
      "\n",
      "• Syntax & Readability  \n",
      "  – Python: concise, indentation-based  \n",
      "  – Java: more boilerplate (semicolons, braces)  \n",
      "\n",
      "• Performance  \n",
      "  – Python: slower interpreter, C-powered libs mitigate  \n",
      "  – Java: faster JIT-compiled bytecode on JVM  \n",
      "\n",
      "• Ecosystem & Use Cases  \n",
      "  – Python: data science, scripting, web apps, ML  \n",
      "  – Java: large-scale enterprise, Android, backend systems  \n",
      "\n",
      "• Concurrency  \n",
      "  – Python: GIL limits true threads, uses multiprocessing/asyncio  \n",
      "  – Java: real multithreading, rich concurrency APIs  \n",
      "\n",
      "• Deployment & Portability  \n",
      "  – Python: needs interpreter, virtualenvs  \n",
      "  – Java: write once, run anywhere on JVM  \n",
      "\n",
      "• Learning Curve & Productivity  \n",
      "  – Python: quick to pick up, rapid prototyping  \n",
      "  – Java: steeper learning, strong tooling (IDE support)  \n",
      "\n",
      "• Community & Libraries  \n",
      "  – Both have large communities and mature package ecosystems.\n",
      "User: What would you recommend for a beginner to learn first?\n",
      "Agent: I’d start with Python unless you have a specific need for Java (e.g. Android or large-scale enterprise):\n",
      "\n",
      "• Python  \n",
      "  – Simpler, cleaner syntax → focus on fundamentals  \n",
      "  – Instant feedback (REPL) → faster learning loop  \n",
      "  – Huge ecosystem for web, data, automation  \n",
      "\n",
      "• Java (if…)  \n",
      "  – You’re targeting Android or big-enterprise back-ends  \n",
      "  – Need strict typing and strong tooling  \n",
      "\n",
      "Either way, once you grasp core concepts (variables, control flow, OOP), switching is easy.\n",
      "Chat history:\n",
      "user: What is Python used for?\n",
      "assistant: Python is a general-purpose, high-level language used for:\n",
      "\n",
      "- Web development (Django, Flask)  \n",
      "- Data analysis & visualization (pandas, NumPy, matplotlib)  \n",
      "- Machine learning & AI (scikit-learn, TensorFlow, PyTorch)  \n",
      "- Scripting & automation (batch jobs, file ops)  \n",
      "- Desktop GUIs (Tkinter, PyQt)  \n",
      "- Game development (Pygame)  \n",
      "- Networking & APIs  \n",
      "- Embedded/IoT projects (MicroPython)  \n",
      "- Teaching programming and rapid prototyping\n",
      "user: How does it compare to Java?\n",
      "assistant: Here’s a concise comparison:\n",
      "\n",
      "• Typing  \n",
      "  – Python: dynamically typed, no declarations  \n",
      "  – Java: statically typed, explicit types  \n",
      "\n",
      "• Syntax & Readability  \n",
      "  – Python: concise, indentation-based  \n",
      "  – Java: more boilerplate (semicolons, braces)  \n",
      "\n",
      "• Performance  \n",
      "  – Python: slower interpreter, C-powered libs mitigate  \n",
      "  – Java: faster JIT-compiled bytecode on JVM  \n",
      "\n",
      "• Ecosystem & Use Cases  \n",
      "  – Python: data science, scripting, web apps, ML  \n",
      "  – Java: large-scale enterprise, Android, backend systems  \n",
      "\n",
      "• Concurrency  \n",
      "  – Python: GIL limits true threads, uses multiprocessing/asyncio  \n",
      "  – Java: real multithreading, rich concurrency APIs  \n",
      "\n",
      "• Deployment & Portability  \n",
      "  – Python: needs interpreter, virtualenvs  \n",
      "  – Java: write once, run anywhere on JVM  \n",
      "\n",
      "• Learning Curve & Productivity  \n",
      "  – Python: quick to pick up, rapid prototyping  \n",
      "  – Java: steeper learning, strong tooling (IDE support)  \n",
      "\n",
      "• Community & Libraries  \n",
      "  – Both have large communities and mature package ecosystems.\n",
      "user: What would you recommend for a beginner to learn first?\n",
      "assistant: I’d start with Python unless you have a specific need for Java (e.g. Android or large-scale enterprise):\n",
      "\n",
      "• Python  \n",
      "  – Simpler, cleaner syntax → focus on fundamentals  \n",
      "  – Instant feedback (REPL) → faster learning loop  \n",
      "  – Huge ecosystem for web, data, automation  \n",
      "\n",
      "• Java (if…)  \n",
      "  – You’re targeting Android or big-enterprise back-ends  \n",
      "  – Need strict typing and strong tooling  \n",
      "\n",
      "Either way, once you grasp core concepts (variables, control flow, OOP), switching is easy.\n"
     ]
    }
   ],
   "source": [
    "// Create a function to handle a multi-turn conversation\n",
    "public static async Task HaveConversation(ChatCompletionAgent agent, ChatHistory chatHistory, List<string> userMessages)\n",
    "{\n",
    "    foreach (string message in userMessages)\n",
    "    {\n",
    "        // Add the user message to chat history\n",
    "        chatHistory.AddUserMessage(message);\n",
    "        \n",
    "        Console.WriteLine($\"User: {message}\");\n",
    "        \n",
    "        // Get the agent's response using InvokeAsync\n",
    "        string agentResponse = \"\";\n",
    "        await foreach (var item in agent.InvokeAsync(chatHistory))\n",
    "        {\n",
    "            if (item.Message is ChatMessageContent content)\n",
    "            {\n",
    "                agentResponse += content.Content;\n",
    "            }\n",
    "        }\n",
    "        \n",
    "        // Add the agent's response to chat history\n",
    "        chatHistory.AddAssistantMessage(agentResponse);\n",
    "        Console.WriteLine($\"Agent: {agentResponse}\");\n",
    "    }\n",
    "    \n",
    "    // Print the chat history\n",
    "    Console.WriteLine(\"Chat history:\");\n",
    "    // Using chat directly as it implements IEnumerable\n",
    "    foreach (var message in chatHistory)\n",
    "    {\n",
    "        Console.WriteLine($\"{message.Role}: {message.Content}\");\n",
    "    }\n",
    "}\n",
    "\n",
    "\n",
    "// Create a fresh chat history\n",
    "var programmingChat = new ChatHistory();\n",
    "\n",
    "// List of user messages for a multi-turn conversation\n",
    "var userMessages = new List<string>\n",
    "{\n",
    "    \"What is Python used for?\",\n",
    "    \"How does it compare to Java?\",\n",
    "    \"What would you recommend for a beginner to learn first?\"\n",
    "};\n",
    "\n",
    "// Create a programming tutor agent\n",
    "var programmingTutor = new ChatCompletionAgent()\n",
    "{\n",
    "    Kernel = kernel,\n",
    "    Name = \"ProgrammingTutor\",\n",
    "    Instructions = \"You are an experienced programming tutor who explains concepts clearly and concisely. Make your answers very concise.\",\n",
    "};\n",
    "\n",
    "// Have a conversation\n",
    "await HaveConversation(programmingTutor, programmingChat, userMessages);"
   ]
  },
  {
   "cell_type": "markdown",
   "id": "800bb638",
   "metadata": {},
   "source": [
    "## 5. Function Calling and Plugins\n",
    "\n",
    "One of the most powerful features of Semantic Kernel agents is their ability to use plugins and call functions. This enables agents to go beyond just generating text and actually perform actions, retrieve information, and integrate with external systems.\n",
    "\n",
    "### What are Plugins in Semantic Kernel?\n",
    "\n",
    "In Semantic Kernel, a **plugin** is a collection of related functions that can be registered with the kernel and made available to agents. Plugins can:\n",
    "- Retrieve information from databases or APIs\n",
    "- Perform calculations or data transformations\n",
    "- Execute system operations\n",
    "- Interact with external services\n",
    "\n",
    "Plugins contain one or more **functions**, which can be:\n",
    "1. **Native Functions**: Written in code (Python) that execute when called\n",
    "2. **Semantic Functions**: Defined by prompts that are sent to the LLM when called\n",
    "\n",
    "Let's create a simple plugin with native functions to demonstrate how this works."
   ]
  },
  {
   "cell_type": "code",
   "execution_count": 56,
   "metadata": {
    "language_info": {
     "name": "polyglot-notebook"
    },
    "polyglot_notebook": {
     "kernelName": "csharp"
    }
   },
   "outputs": [],
   "source": [
    "using System.ComponentModel;\n",
    "\n",
    "// Define a simple temperature conversion tool\n",
    "public class TemperatureConverter\n",
    "{\n",
    "    // Define a kernel function to convert Celsius to Fahrenheit\n",
    "    [KernelFunction, Description(\"Converts temperature from Celsius to Fahrenheit\")]\n",
    "    public string CelsiusToFahrenheit(\n",
    "        [Description(\"Temperature in Celsius\")] double celsius)\n",
    "    {\n",
    "        double fahrenheit = (celsius * 9 / 5) + 32;\n",
    "        return $\"{celsius}°C is equal to {fahrenheit:F1}°F\";\n",
    "    }\n",
    "\n",
    "    // Define a kernel function to convert Fahrenheit to Celsius\n",
    "    [KernelFunction, Description(\"Converts temperature from Fahrenheit to Celsius\")]\n",
    "    public string FahrenheitToCelsius(\n",
    "        [Description(\"Temperature in Fahrenheit\")] double fahrenheit)\n",
    "    {\n",
    "        double celsius = (fahrenheit - 32) * 5 / 9;\n",
    "        return $\"{fahrenheit}°F is equal to {celsius:F1}°C\";\n",
    "    }\n",
    "}\n",
    "\n",
    "// Import the temperature converter as a plugin\n",
    "var temperatureTool = kernel.ImportPluginFromObject(new TemperatureConverter(), \"TemperatureTool\");"
   ]
  },
  {
   "cell_type": "code",
   "execution_count": 57,
   "id": "348dd5d7",
   "metadata": {
    "language_info": {
     "name": "polyglot-notebook"
    },
    "polyglot_notebook": {
     "kernelName": "csharp"
    }
   },
   "outputs": [
    {
     "name": "stdout",
     "output_type": "stream",
     "text": [
      "Agent: 25 degrees Celsius is equal to 77.0 degrees Fahrenheit.\r\n"
     ]
    }
   ],
   "source": [
    "// Create a chat history\n",
    "var chatHistory = new ChatHistory();\n",
    "\n",
    "// Define the settings for the Azure OpenAI service\n",
    "var settings = new AzureOpenAIPromptExecutionSettings\n",
    "{\n",
    "    ServiceId = \"chat-completion\",\n",
    "    FunctionChoiceBehavior = FunctionChoiceBehavior.Auto()\n",
    "};\n",
    "\n",
    "// Create an agent that can use the temperature tool\n",
    "var weatherAgent = new ChatCompletionAgent() {\n",
    "    Kernel = kernel,\n",
    "    Name = \"HelperAgent\",\n",
    "    Instructions = \"You are a helpful weather assistant. When asked about temperature conversions, use the TemperatureTool functions to perform accurate calculations.\",\n",
    "    Arguments = new KernelArguments(settings)\n",
    "};\n",
    "\n",
    "// Add a user question to the chat\n",
    "chatHistory.AddUserMessage(\"Can you convert 25 degrees Celsius to Fahrenheit?\");\n",
    "\n",
    "// Get the agent's response using InvokeAsync\n",
    "string agentResponse = \"\";\n",
    "await foreach (var item in weatherAgent.InvokeAsync(chatHistory))\n",
    "{\n",
    "    if (item.Message is ChatMessageContent content)\n",
    "    {\n",
    "        agentResponse += content.Content;\n",
    "    }\n",
    "}\n",
    "// Output the result\n",
    "Console.WriteLine($\"Agent: {agentResponse}\");"
   ]
  },
  {
   "cell_type": "markdown",
   "id": "ead14831",
   "metadata": {},
   "source": [
    "### Exercise: Create Your Own Agent with a Plugin\n",
    "\n",
    "Remember the MathTutor Agent we made earlier? Try adding a plugin to it. "
   ]
  },
  {
   "cell_type": "code",
   "execution_count": null,
   "id": "d989efe8",
   "metadata": {
    "language_info": {
     "name": "polyglot-notebook"
    },
    "polyglot_notebook": {
     "kernelName": "csharp"
    }
   },
   "outputs": [],
   "source": [
    "using System.ComponentModel;\n",
    "\n",
    "// Define a unit conversion tool to enhance our math tutor agent\n",
    "public class UnitConverter\n",
    "{\n",
    "    // Kilograms to Pounds conversion function\n",
    "    [KernelFunction, Description(\"Converts weight from kilograms to pounds\")]\n",
    "    public string KilogramsToPounds(\n",
    "        [Description(\"Weight in kilograms\")] double kilograms)\n",
    "    {\n",
    "        // 1 kg is approximately 2.20462 pounds\n",
    "        double pounds = kilograms * 2.20462;\n",
    "        return $\"{kilograms} kg is equal to {pounds:F2} lbs\";\n",
    "    }\n",
    "    \n",
    "    // Pounds to Kilograms conversion function\n",
    "    [KernelFunction, Description(\"Converts weight from pounds to kilograms\")]\n",
    "    public string PoundsToKilograms(\n",
    "        [Description(\"Weight in pounds\")] double pounds)\n",
    "    {\n",
    "        // 1 pound is approximately 0.453592 kg\n",
    "        double kilograms = pounds * 0.453592;\n",
    "        return $\"{pounds} lbs is equal to {kilograms:F2} kg\";\n",
    "    }\n",
    "}\n",
    "\n",
    "var math_kernel = kernel.Clone();\n",
    "\n",
    "// Import the unit converter as a plugin\n",
    "\n",
    "// Create a math tutor agent that can use both the temperature tool and unit converter\n",
    "\n",
    "// Create a chat history for our math tutoring session\n",
    "\n",
    "// Add a user question about unit conversion\n",
    "\n",
    "// Get the math tutor agent's response\n",
    "\n",
    "// Output the result"
   ]
  },
  {
   "cell_type": "markdown",
   "id": "6edfd21b",
   "metadata": {},
   "source": [
    "<details>\n",
    "<summary>Click to see solution</summary>\n",
    "\n",
    "```c#\n",
    "math_kernel.ImportPluginFromObject(new UnitConverter(), \"UnitConverter\");\n",
    "\n",
    "// Create a math tutor agent that can use both the temperature tool and unit converter\n",
    "var mathTutorWithTools = new ChatCompletionAgent() {\n",
    "    Kernel = kernel,\n",
    "    Name = \"MathTutorWithTools\",\n",
    "    Instructions = @\"You are a math tutor specialized in helping students understand mathematical concepts.\n",
    "    \n",
    "    When responding to questions:\n",
    "    1. First explain the underlying concept in simple terms\n",
    "    2. Then walk through the solution step by step\n",
    "    3. When dealing with unit conversions, use the appropriate tools\n",
    "    4. Show your work and explain each calculation\n",
    "    5. Provide a simple example to reinforce the learning\n",
    "    \n",
    "    Always be encouraging and patient.\",\n",
    "    Arguments = new KernelArguments(settings)\n",
    "};\n",
    "\n",
    "// Create a chat history for our math tutoring session\n",
    "var mathChat = new ChatHistory();\n",
    "\n",
    "// Add a user question about unit conversion\n",
    "mathChat.AddUserMessage(\"If I weigh 70 kilograms, how many pounds is that? Can you explain the conversion?\");\n",
    "\n",
    "// Get the math tutor agent's response\n",
    "string mathTutorResponse = \"\";\n",
    "await foreach (var item in mathTutorWithTools.InvokeAsync(mathChat))\n",
    "{\n",
    "    if (item.Message is ChatMessageContent content)\n",
    "    {\n",
    "        mathTutorResponse += content.Content;\n",
    "    }\n",
    "}\n",
    "\n",
    "// Output the result\n",
    "Console.WriteLine($\"Math Tutor: {mathTutorResponse}\");\n",
    "```\n",
    "</details>"
   ]
  },
  {
   "attachments": {
    "image.png": {
     "image/png": "[encoded data removed]"
    }
   },
   "cell_type": "markdown",
   "id": "50c9b191",
   "metadata": {},
   "source": [
    "## 6. Multi-Agent Concept\n",
    "Like well-known cloud design patterns, agent orchestration patterns are technology agnostic approaches to coordinating multiple agents to work together towards a common goal.\n",
    "\n",
    "### Agent Orchestration Patterns\n",
    "\n",
    "| Pattern | Description | Typical Use Case |\n",
    "|---------|-------------|------------------|\n",
    "| **Concurrent** | Broadcasts a task to all agents, collects results independently. | Parallel analysis, independent subtasks, ensemble decision making. |\n",
    "| **Sequential** | Passes the result from one agent to the next in a defined order. | Step-by-step workflows, pipelines, multi-stage processing. |\n",
    "| **Handoff** | Dynamically passes control between agents based on context or rules. | Dynamic workflows, escalation, fallback, or expert handoff scenarios. |\n",
    "| **Group Chat** | All agents participate in a group conversation, coordinated by a group manager. | Brainstorming, collaborative problem solving, consensus building. |\n",
    "| **Magnetic** | Group chat-like orchestration inspired by MagneticOne. | Complex, generalist multi-agent collaboration. |\n",
    "\n",
    "\n",
    "We will be focussing on the Handoff Orchestration pattern. Common use cases include A customer support agent handles a general inquiry, then hands off to a technical expert agent for troubleshooting, or to a billing agent if needed: \n",
    "\n",
    "![image.png](attachment:image.png)\n"
   ]
  },
  {
   "cell_type": "markdown",
   "id": "9e91e022",
   "metadata": {},
   "source": [
    "Let's start by defining some tools:"
   ]
  },
  {
   "cell_type": "code",
   "execution_count": 58,
   "metadata": {
    "language_info": {
     "name": "polyglot-notebook"
    },
    "polyglot_notebook": {
     "kernelName": "csharp"
    }
   },
   "outputs": [],
   "source": [
    "using System;\n",
    "using System.Collections.Generic;\n",
    "using System.Threading.Tasks;\n",
    "using Microsoft.SemanticKernel;\n",
    "using Microsoft.SemanticKernel.ChatCompletion;\n",
    "using Microsoft.SemanticKernel.Connectors.AzureOpenAI;\n",
    "using System.ComponentModel;\n",
    "\n",
    "// Define a simplified Customer Support system with specialized tools\n",
    "\n",
    "// Technical Support Tool - simplified\n",
    "public class TechnicalSupportTool\n",
    "{\n",
    "    // Storage for common technical issues and their solutions\n",
    "    private Dictionary<string, string> techIssues = new Dictionary<string, string>(StringComparer.OrdinalIgnoreCase) \n",
    "    { \n",
    "        { \"wifi\", \"1. Restart your router\\n2. Check if the cables are properly connected\\n3. Reset your network settings\" },\n",
    "        { \"slow internet\", \"1. Check your internet plan bandwidth\\n2. Run a speed test\\n3. Try connecting via ethernet cable\" },\n",
    "        { \"blue screen\", \"1. Note the error code\\n2. Check for Windows updates\\n3. Run system diagnostics\" },\n",
    "        { \"outlook\", \"1. Check your internet connection\\n2. Verify your password\\n3. Clear the Outlook cache\" }\n",
    "    };\n",
    "\n",
    "    [KernelFunction, Description(\"Get troubleshooting steps for a technical issue\")]\n",
    "    public string GetTroubleshooting(string issue)\n",
    "    {\n",
    "        foreach (var key in techIssues.Keys)\n",
    "        {\n",
    "            if (issue.Contains(key, StringComparison.OrdinalIgnoreCase))\n",
    "                return $\"For issues with {key}, try these steps:\\n{techIssues[key]}\";\n",
    "        }\n",
    "            \n",
    "        return $\"I don't have specific troubleshooting steps for '{issue}'. Common issues I can help with include: {string.Join(\", \", techIssues.Keys)}\";\n",
    "    }\n",
    "    \n",
    "    [KernelFunction, Description(\"List all available troubleshooting guides\")]\n",
    "    public string ListAllGuides()\n",
    "    {\n",
    "        var result = \"Available troubleshooting guides:\";\n",
    "        foreach (var issue in techIssues.Keys)\n",
    "            result += $\"\\n- {issue}\";\n",
    "        return result;\n",
    "    }\n",
    "}\n",
    "\n",
    "// Billing Tool - simplified\n",
    "public class BillingTool\n",
    "{\n",
    "    // Format: Service name -> (Monthly cost, Renewal date)\n",
    "    private Dictionary<string, (decimal MonthlyCost, int RenewalDay)> services = \n",
    "        new Dictionary<string, (decimal, int)>(StringComparer.OrdinalIgnoreCase)\n",
    "    {\n",
    "        { \"standard plan\", (9.99m, 15) },\n",
    "        { \"premium plan\", (19.99m, 20) },\n",
    "        { \"enterprise plan\", (49.99m, 1) }\n",
    "    };\n",
    "    \n",
    "    [KernelFunction, Description(\"Get billing details for a service plan\")]\n",
    "    public string GetPlanDetails(string plan)\n",
    "    {\n",
    "        if (string.IsNullOrEmpty(plan) || !services.ContainsKey(plan))\n",
    "            return $\"Plan not found. Available plans: {string.Join(\", \", services.Keys)}\";\n",
    "            \n",
    "        var (cost, renewalDay) = services[plan];\n",
    "        \n",
    "        return $\"The {plan} costs ${cost:F2} per month and renews on day {renewalDay} of each month.\";\n",
    "    }\n",
    "    \n",
    "    [KernelFunction, Description(\"List all service plans and their costs\")]\n",
    "    public string ListAllPlans()\n",
    "    {\n",
    "        var result = \"Available service plans:\";\n",
    "        foreach (var plan in services.Keys)\n",
    "        {\n",
    "            var (cost, renewalDay) = services[plan];\n",
    "            result += $\"\\n- {plan}: ${cost:F2}/month (renews day {renewalDay})\";\n",
    "        }\n",
    "                \n",
    "        return result;\n",
    "    }\n",
    "}"
   ]
  },
  {
   "cell_type": "markdown",
   "id": "6e2119af",
   "metadata": {},
   "source": [
    "### Exercise: Add Sub Agents as Plugins to the Orchastrator Agent\n",
    "Now we create specialized agents and give them the tool they need to perform their operations."
   ]
  },
  {
   "cell_type": "code",
   "execution_count": null,
   "id": "6b8230a6",
   "metadata": {
    "language_info": {
     "name": "polyglot-notebook"
    },
    "polyglot_notebook": {
     "kernelName": "csharp"
    }
   },
   "outputs": [],
   "source": [
    "// Define a plugin class with functions for agent invocation\n",
    "public class AgentPlugin\n",
    "{\n",
    "    // Dictionary to store specialized agents by name\n",
    "    private Dictionary<string, ChatCompletionAgent> _agents = new();\n",
    "    \n",
    "    // Register an agent with this plugin\n",
    "    public void RegisterAgent(string name, ChatCompletionAgent agent)\n",
    "    {\n",
    "        _agents[name] = agent;\n",
    "    }\n",
    "    \n",
    "    // Function to invoke the technical support expert\n",
    "    [KernelFunction, Description(\"Ask the technical support expert about troubleshooting issues\")]\n",
    "    public async Task<string> AskTechnicalExpert(string question)\n",
    "    {\n",
    "        return await InvokeAgentAsync(\"TechnicalExpert\", question);\n",
    "    }\n",
    "    \n",
    "    // Function to invoke the billing expert\n",
    "    [KernelFunction, Description(\"Ask the billing expert about service plans and costs\")]\n",
    "    public async Task<string> AskBillingExpert(string question)\n",
    "    {\n",
    "        return await InvokeAgentAsync(\"BillingExpert\", question);\n",
    "    }\n",
    "    \n",
    "    // Helper method to invoke any agent by name\n",
    "    private async Task<string> InvokeAgentAsync(string agentName, string question)\n",
    "    {\n",
    "        if (!_agents.ContainsKey(agentName))\n",
    "            return $\"Agent '{agentName}' not found.\";\n",
    "        \n",
    "        var agent = _agents[agentName];\n",
    "        \n",
    "        // Create a chat history with the user's question\n",
    "        var chatHistory = new ChatHistory();\n",
    "        chatHistory.AddUserMessage(question);\n",
    "        \n",
    "        // Build the response from the agent\n",
    "        var responseBuilder = new System.Text.StringBuilder();\n",
    "        await foreach (var item in agent.InvokeAsync(chatHistory))\n",
    "        {\n",
    "            if (item.Message is ChatMessageContent content)\n",
    "            {\n",
    "                responseBuilder.Append(content.Content);\n",
    "            }\n",
    "        }\n",
    "        \n",
    "        return responseBuilder.ToString();\n",
    "    }\n",
    "}\n",
    "\n",
    "// Create and configure the agents with specialized tools\n",
    "async Task<ChatCompletionAgent> DemoHandoffOrchestration()\n",
    "{\n",
    "    // Create technical support expert agent with troubleshooting tool\n",
    "    var technicalAgent = new ChatCompletionAgent\n",
    "    {\n",
    "        Kernel = kernel.Clone(),\n",
    "        Name = \"TechnicalExpert\",\n",
    "        Instructions = @\"You are a technical support expert in a customer service system.\n",
    "            Use your tools to provide accurate troubleshooting steps for common technical issues.\n",
    "            Only answer questions about technical problems and refer other topics to the appropriate expert.\"\n",
    "    };\n",
    "    technicalAgent.Kernel.ImportPluginFromObject(new TechnicalSupportTool(), \"support\");\n",
    "    \n",
    "    // Create billing expert agent with billing tool\n",
    "    var billingAgent = new ChatCompletionAgent\n",
    "    {\n",
    "        Kernel = kernel.Clone(),\n",
    "        Name = \"BillingExpert\",\n",
    "        Instructions = @\"You are a billing specialist in a customer service system.\n",
    "            Use your tools to provide information about service plans, costs and renewal dates.\n",
    "            Only answer questions about billing and refer other topics to the appropriate expert.\"\n",
    "    };\n",
    "    billingAgent.Kernel.ImportPluginFromObject(new BillingTool(), \"billing\");\n",
    "    \n",
    "    // TODO: Create the agent plugin and register our specialized _agents\n",
    "    \n",
    "    // TODO: Create orchestrator agent with its own kernel\n",
    "    \n",
    "    // TODO: Register the agent plugin with the orchestrator's kernel\n",
    "\n",
    "    var orchestrator = new ChatCompletionAgent\n",
    "    {\n",
    "        Kernel = orchestratorKernel,\n",
    "        Name = \"Orchestrator\",\n",
    "        Instructions = $@\"You are a customer service coordinator that routes questions to specialized experts.\n",
    "            \n",
    "            Available experts:\n",
    "            - Ask the technical expert using experts.AskTechnicalExpert for questions about troubleshooting, technical issues, wifi problems, etc.\n",
    "            - Ask the billing expert using experts.AskBillingExpert for questions about service plans, costs, renewal dates, etc.\n",
    "            \n",
    "            For each question:\n",
    "            1. Identify which expert should handle it\n",
    "            2. Use the appropriate expert function with the original question\n",
    "            3. Return the expert's response\n",
    "            \n",
    "            Do not try to answer questions yourself - always use the appropriate expert.\"\n",
    "    };\n",
    "    \n",
    "    return orchestrator;\n",
    "}"
   ]
  },
  {
   "cell_type": "markdown",
   "id": "7bcf9cfd",
   "metadata": {},
   "source": [
    "<details>\n",
    "<summary>Click to see solution</summary>\n",
    "\n",
    "```c#\n",
    "    // Create the agent plugin and register our specialized agents\n",
    "    var agentPlugin = new AgentPlugin();\n",
    "    agentPlugin.RegisterAgent(\"TechnicalExpert\", technicalAgent);\n",
    "    agentPlugin.RegisterAgent(\"BillingExpert\", billingAgent);\n",
    "    \n",
    "    // Create orchestrator agent with its own kernel\n",
    "    var orchestratorKernel = kernel.Clone();\n",
    "    \n",
    "    // Register the agent plugin with the orchestrator's kernel\n",
    "    orchestratorKernel.ImportPluginFromObject(agentPlugin, \"experts\");\n",
    "```\n",
    "</details>"
   ]
  },
  {
   "cell_type": "code",
   "execution_count": 61,
   "metadata": {
    "language_info": {
     "name": "polyglot-notebook"
    },
    "polyglot_notebook": {
     "kernelName": "csharp"
    }
   },
   "outputs": [
    {
     "name": "stdout",
     "output_type": "stream",
     "text": [
      "User Question: I'm having trouble with my WiFi connection. What should I do?\n",
      "\n",
      "Orchestrator Response: @experts.AskTechnicalExpert I’m having trouble with my WiFi connection. What should I do?\n",
      "--------------------------------------------------\n",
      "\n",
      "User Question: How much does the premium plan cost?\n",
      "\n",
      "Orchestrator Response: @experts.AaskBillingExpert How much does the premium plan cost?\n",
      "--------------------------------------------------\n",
      "\n",
      "User Question: My computer keeps showing a blue screen. Can you help me troubleshoot?\n",
      "\n",
      "Orchestrator Response: <assistant to=\"experts.AskTechnicalExpert\">\n",
      "My computer keeps showing a blue screen. Can you help me troubleshoot?\n",
      "</assistant>\n",
      "--------------------------------------------------\n",
      "\n",
      "User Question: When does my standard plan subscription renew each month?\n",
      "\n",
      "Orchestrator Response: {{experts.AaskBillingExpert(\"When does my standard plan subscription renew each month?\")}}\n",
      "--------------------------------------------------\n",
      "\n"
     ]
    }
   ],
   "source": [
    "// Create the orchestrator\n",
    "var orchestrator = await DemoHandoffOrchestration();\n",
    "\n",
    "// Define a helper function to process questions through the orchestrator\n",
    "async Task ProcessQuestion(ChatCompletionAgent agent, string question)\n",
    "{\n",
    "    Console.WriteLine($\"User Question: {question}\\n\");\n",
    "    \n",
    "    // Create a fresh chat history for this question\n",
    "    var chatHistory = new ChatHistory();\n",
    "    chatHistory.AddUserMessage(question);\n",
    "    \n",
    "    // Get orchestrator's response (which will invoke the appropriate subagent)\n",
    "    string response = \"\";\n",
    "    await foreach (var item in agent.InvokeAsync(chatHistory))\n",
    "    {\n",
    "        if (item.Message is ChatMessageContent content)\n",
    "        {\n",
    "            response += content.Content;\n",
    "        }\n",
    "    }\n",
    "    \n",
    "    Console.WriteLine($\"Orchestrator Response: {response}\");\n",
    "    Console.WriteLine(new string('-', 50) + \"\\n\");\n",
    "}\n",
    "\n",
    "// Process a set of questions\n",
    "var questions = new List<string>\n",
    "{\n",
    "    \"I'm having trouble with my WiFi connection. What should I do?\",\n",
    "    \"How much does the premium plan cost?\",\n",
    "    \"My computer keeps showing a blue screen. Can you help me troubleshoot?\",\n",
    "    \"When does my standard plan subscription renew each month?\"\n",
    "};\n",
    "\n",
    "// Process each question\n",
    "foreach (var question in questions)\n",
    "{\n",
    "    await ProcessQuestion(orchestrator, question);\n",
    "}"
   ]
  }
 ],
 "metadata": {
  "kernelspec": {
   "display_name": ".NET (C#)",
   "language": "C#",
   "name": ".net-csharp"
  },
  "language_info": {
   "name": "polyglot-notebook"
  },
  "polyglot_notebook": {
   "kernelInfo": {
    "defaultKernelName": "csharp",
    "items": [
     {
      "aliases": [],
      "name": "csharp"
     }
    ]
   }
  }
 },
 "nbformat": 4,
 "nbformat_minor": 5
}
